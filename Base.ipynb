{
  "cells": [
    {
      "cell_type": "markdown",
      "metadata": {
        "id": "view-in-github",
        "colab_type": "text"
      },
      "source": [
        "<a href=\"https://colab.research.google.com/github/FanchinAlberto/TPSIT_Python/blob/main/Base.ipynb\" target=\"_parent\"><img src=\"https://colab.research.google.com/assets/colab-badge.svg\" alt=\"Open In Colab\"/></a>"
      ]
    },
    {
      "cell_type": "markdown",
      "metadata": {
        "id": "RHIPW_cNTug4"
      },
      "source": [
        "Cognome:                Nome:               Classe: "
      ]
    },
    {
      "cell_type": "code",
      "source": [
        ""
      ],
      "metadata": {
        "id": "yJC1CTRc10qn"
      },
      "execution_count": null,
      "outputs": []
    },
    {
      "cell_type": "markdown",
      "metadata": {
        "id": "L-KPjGVATug6"
      },
      "source": [
        "1. Definire una funzione *somma(...)* che calcoli la somma dei primi 500 numeri. È l'algoritmo più rapido ?"
      ]
    },
    {
      "cell_type": "code",
      "source": [
        "def somma(n):\n",
        "  print((n*(n+1))/2)\n",
        "\n",
        "somma(500)"
      ],
      "metadata": {
        "id": "e1_TxIq2AyAw"
      },
      "execution_count": null,
      "outputs": []
    },
    {
      "cell_type": "markdown",
      "metadata": {
        "id": "FwRcm9oFTug7"
      },
      "source": [
        "2. Assegnare il proprio Cognome e Nome alla stringa *nome_cognome*, quindi visualizzare un elenco contenente\n",
        "    la lettera e la sua posizione \n",
        "    \n",
        "    ( F: 1, a: 2, ...)"
      ]
    },
    {
      "cell_type": "code",
      "execution_count": 3,
      "metadata": {
        "id": "UiDKFEcZTug7",
        "outputId": "2889379c-1fe4-4383-cc65-802213a582c9",
        "colab": {
          "base_uri": "https://localhost:8080/"
        }
      },
      "outputs": [
        {
          "output_type": "stream",
          "name": "stdout",
          "text": [
            "{0: 'A', 1: 'l', 2: 'b', 3: 'e', 4: 'r', 5: 't', 6: 'o', 7: 'F', 8: 'a', 9: 'n', 10: 'c', 11: 'h', 12: 'i', 13: 'n'}\n"
          ]
        }
      ],
      "source": [
        "nome_cognome = \"AlbertoFanchin\"\n",
        "\n",
        "s = {i:v for i,v in enumerate(nome_cognome)} \n",
        "\n",
        "print(s)"
      ]
    },
    {
      "cell_type": "markdown",
      "metadata": {
        "id": "40wMTfzdTug8"
      },
      "source": [
        "3. Definire una funzione *complementare(...)*, che ritorni l'iniziale del **nucleotide** complementare a quello passato come argomento: \n",
        "\n",
        "    *Adenina <=> Timina , Guanina <=> Citosina*\n",
        "    \n",
        "    Assicurarsi che funzioni indipendentemente dal case del parametro fornito.\n",
        "    Scrivere tre invocazioni di test"
      ]
    },
    {
      "cell_type": "code",
      "execution_count": 19,
      "metadata": {
        "id": "0UEn73nsTug8",
        "outputId": "7664fb67-5acf-48ec-9ab5-12ad589022f9",
        "colab": {
          "base_uri": "https://localhost:8080/"
        }
      },
      "outputs": [
        {
          "output_type": "stream",
          "name": "stdout",
          "text": [
            "G\n",
            "T\n",
            "A\n"
          ]
        }
      ],
      "source": [
        "def complementare(nuc):\n",
        "  if nuc.upper() == 'A' or nuc.upper() == 'ADENINA':\n",
        "    return 'T'\n",
        "  elif nuc.upper() == 'T' or nuc.upper() == 'TIMINA':\n",
        "    return 'A'\n",
        "  elif nuc.upper() == 'G' or nuc.upper() == 'GUANINA':\n",
        "    return 'C'\n",
        "  elif nuc.upper() == 'C' or nuc.upper() == 'CITOSINA':\n",
        "    return 'G'\n",
        "\n",
        "print(complementare('CiTosInA'))\n",
        "print(complementare('A'))\n",
        "print(complementare('T'))"
      ]
    },
    {
      "cell_type": "markdown",
      "metadata": {
        "id": "TEtHwbgoTug8"
      },
      "source": [
        "4. Definire una funzione *filamento_opposto(...)* che utilizzi la funzione *complementare(...)* per ritornare il filamento opposto a quello passato come argomento.\n",
        "\n",
        "   Es. filamento_opposto('CTAATGT') => 'GATTACA'"
      ]
    },
    {
      "cell_type": "code",
      "execution_count": 8,
      "metadata": {
        "id": "0dv59IrVTug9",
        "outputId": "68f2457d-fe68-47df-ecda-9213ccf557cd",
        "colab": {
          "base_uri": "https://localhost:8080/"
        }
      },
      "outputs": [
        {
          "output_type": "stream",
          "name": "stdout",
          "text": [
            "GATTACA\n"
          ]
        }
      ],
      "source": [
        "def filamento_opposto(filamento):\n",
        "  fil = ''\n",
        "  for f in filamento:\n",
        "    fil += complementare(f)\n",
        "  return fil\n",
        "\n",
        "print(filamento_opposto('CTAATGT'))"
      ]
    },
    {
      "cell_type": "markdown",
      "metadata": {
        "id": "53ATG58-Tug9"
      },
      "source": [
        "5.  Definire due *tuple* nome e cognome, contenenti almeno 5 studenti: generare una lista in cui ogni elemento è un dizionario con chiavi 'nome' e 'cognome' che accoppia i nomi e cognomi nelle due tuple in base all'ordine."
      ]
    },
    {
      "cell_type": "code",
      "execution_count": 10,
      "metadata": {
        "id": "pAuryWQsTug9",
        "outputId": "3df300cb-f97d-4044-f0c6-26e6b86d5009",
        "colab": {
          "base_uri": "https://localhost:8080/"
        }
      },
      "outputs": [
        {
          "output_type": "stream",
          "name": "stdout",
          "text": [
            "[{'Nome:': 'Alberto', 'Cognome': 'Fanchin'}, {'Nome:': 'Mattia', 'Cognome': 'Tognato'}, {'Nome:': 'Giorgio', 'Cognome': 'Fanin'}, {'Nome:': 'Joey', 'Cognome': 'Gheller'}, {'Nome:': 'Alessandro', 'Cognome': 'Michelazzo'}]\n"
          ]
        }
      ],
      "source": [
        "nomi = ('Alberto', 'Mattia', 'Giorgio', 'Joey', 'Alessandro')\n",
        "cognomi = ('Fanchin', 'Tognato', 'Fanin', 'Gheller', 'Michelazzo')\n",
        "\n",
        "nomi_cognomi = [{'Nome:':n, 'Cognome':c} for c,n in zip(cognomi, nomi)]\n",
        "\n",
        "print(nomi_cognomi)"
      ]
    },
    {
      "cell_type": "markdown",
      "metadata": {
        "id": "hAV-PdErTug9"
      },
      "source": [
        "6. Definire la funzione *frequenza(...)* che restituisca un dizionario rappresentante la \"frequenza di comparsa\" di ciascun carattere componente il parametro. Invocarla usando la stringa *nome_cognome* come parametro"
      ]
    },
    {
      "cell_type": "code",
      "execution_count": 11,
      "metadata": {
        "id": "IwuU1DVgTug9",
        "outputId": "3fe05250-c471-4b1d-b00d-01bd78f0d710",
        "colab": {
          "base_uri": "https://localhost:8080/"
        }
      },
      "outputs": [
        {
          "output_type": "stream",
          "name": "stdout",
          "text": [
            "Counter({'n': 2, 'A': 1, 'l': 1, 'b': 1, 'e': 1, 'r': 1, 't': 1, 'o': 1, 'F': 1, 'a': 1, 'c': 1, 'h': 1, 'i': 1})\n"
          ]
        }
      ],
      "source": [
        "from typing import Counter\n",
        "def frequenza(stringa):\n",
        "  freq = Counter(stringa)\n",
        "  return freq\n",
        "\n",
        "print(frequenza(nome_cognome))"
      ]
    },
    {
      "cell_type": "markdown",
      "metadata": {
        "id": "8aIGh6MGTug9"
      },
      "source": [
        "7. Utilizzando la libreria *random*, definire la funzione *genera_mac()* che ritorna un indirizzo MAC casuale ma valido"
      ]
    },
    {
      "cell_type": "code",
      "execution_count": 18,
      "metadata": {
        "id": "qhOpHgTFTug9",
        "outputId": "4e2deafc-74d2-4e61-f727-dd3194e7efbd",
        "colab": {
          "base_uri": "https://localhost:8080/"
        }
      },
      "outputs": [
        {
          "output_type": "stream",
          "name": "stdout",
          "text": [
            "44c1de11a15e\n"
          ]
        }
      ],
      "source": [
        "import random\n",
        "def genera_mac():\n",
        "  mac = ''\n",
        "  for x in range(12):\n",
        "    mac += str(hex(random.randint(0,15)))[2]\n",
        "  return mac\n",
        "\n",
        "print(genera_mac())"
      ]
    },
    {
      "cell_type": "markdown",
      "metadata": {
        "id": "jojfv_aZTug-"
      },
      "source": [
        "8. Usando le librerie *random* e *string*, definire la funzione *genera_password(...)* che ritorna una password casuale di lunghezza pari al primo parametro e costituita da lettere maiuscole, minuscole, numeri e caratteri speciali, in quantità pari almeno al secondo parametro (tupla).\n",
        "\n",
        "    Es. genera_password(30, (10, 5, 3, 4)) => Password lunga 30 con almeno 10 maiuscole, 5 minuscole, 3 numeri e 4 caratteri speciali"
      ]
    },
    {
      "cell_type": "code",
      "execution_count": 25,
      "metadata": {
        "id": "s2jXwckPTug-",
        "outputId": "dec88cf5-50f8-437f-fecb-5a8c66c28e5b",
        "colab": {
          "base_uri": "https://localhost:8080/"
        }
      },
      "outputs": [
        {
          "output_type": "stream",
          "name": "stdout",
          "text": [
            "gWJc@b89EKXjk*Y@ZKEC9*\n"
          ]
        }
      ],
      "source": [
        "import string\n",
        "def genera_password(lenght, upper, lower, numbers, spec):\n",
        "  maiuscole = list(string.ascii_uppercase)\n",
        "  minuscole = list(string.ascii_lowercase)\n",
        "  numeri = [1,2,3,4,5,6,7,8,9]\n",
        "  speciali = ['!','@','#','$','%','^','&','*']\n",
        "\n",
        "  password = []\n",
        "  while len(password) != lenght:\n",
        "    for s in range(upper):\n",
        "      password.append(random.choice(maiuscole))\n",
        "    for x in range(lower):\n",
        "      password.append(random.choice(minuscole))\n",
        "    for z in range(numbers):\n",
        "      password.append(str(random.choice(numeri)))\n",
        "    for a in range(spec):\n",
        "      password.append(random.choice(speciali))\n",
        "  \n",
        "  random.shuffle(password)\n",
        "  pw = ''.join([str(item) for item in password])\n",
        "  return pw\n",
        "\n",
        "print(genera_password(22, 10, 5, 3, 4))"
      ]
    }
  ],
  "metadata": {
    "interpreter": {
      "hash": "40d3a090f54c6569ab1632332b64b2c03c39dcf918b08424e98f38b5ae0af88f"
    },
    "kernelspec": {
      "display_name": "Python 3",
      "language": "python",
      "name": "python3"
    },
    "language_info": {
      "codemirror_mode": {
        "name": "ipython",
        "version": 3
      },
      "file_extension": ".py",
      "mimetype": "text/x-python",
      "name": "python",
      "nbconvert_exporter": "python",
      "pygments_lexer": "ipython3",
      "version": "3.8.8"
    },
    "colab": {
      "name": "Base.ipynb",
      "provenance": [],
      "collapsed_sections": [],
      "include_colab_link": true
    }
  },
  "nbformat": 4,
  "nbformat_minor": 0
}